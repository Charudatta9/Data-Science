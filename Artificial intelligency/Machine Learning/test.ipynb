{
 "cells": [
  {
   "cell_type": "code",
   "execution_count": 2,
   "id": "0f35b638",
   "metadata": {},
   "outputs": [
    {
     "name": "stdout",
     "output_type": "stream",
     "text": [
      "Hello world\n"
     ]
    }
   ],
   "source": [
    "print(\"Hello world\")"
   ]
  },
  {
   "cell_type": "code",
   "execution_count": 1,
   "id": "6218aed6",
   "metadata": {},
   "outputs": [
    {
     "name": "stdout",
     "output_type": "stream",
     "text": [
      "My name is Charudatta Sarode\n"
     ]
    }
   ],
   "source": [
    "print(\"My name is Charudatta Sarode\")"
   ]
  },
  {
   "cell_type": "code",
   "execution_count": 2,
   "id": "ff0344d2",
   "metadata": {},
   "outputs": [
    {
     "data": {
      "text/plain": [
       "32"
      ]
     },
     "execution_count": 2,
     "metadata": {},
     "output_type": "execute_result"
    }
   ],
   "source": [
    "20+12"
   ]
  },
  {
   "cell_type": "code",
   "execution_count": 3,
   "id": "dc6e5ec9",
   "metadata": {},
   "outputs": [
    {
     "data": {
      "text/plain": [
       "10.75"
      ]
     },
     "execution_count": 3,
     "metadata": {},
     "output_type": "execute_result"
    }
   ],
   "source": [
    "43/4"
   ]
  },
  {
   "cell_type": "markdown",
   "id": "dc100ca9",
   "metadata": {},
   "source": [
    "To run and execute the cell Shift + enter or alt+enter\n",
    "To add the cell above the current cell ESC+A\n",
    "To add the cell below the current cell ESC+B \n",
    "To delete the cell ESC+D+D"
   ]
  },
  {
   "cell_type": "code",
   "execution_count": null,
   "id": "4514631f",
   "metadata": {},
   "outputs": [],
   "source": []
  }
 ],
 "metadata": {
  "kernelspec": {
   "display_name": "Python 3 (ipykernel)",
   "language": "python",
   "name": "python3"
  },
  "language_info": {
   "codemirror_mode": {
    "name": "ipython",
    "version": 3
   },
   "file_extension": ".py",
   "mimetype": "text/x-python",
   "name": "python",
   "nbconvert_exporter": "python",
   "pygments_lexer": "ipython3",
   "version": "3.11.7"
  }
 },
 "nbformat": 4,
 "nbformat_minor": 5
}
